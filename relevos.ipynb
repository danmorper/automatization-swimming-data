{
 "cells": [
  {
   "cell_type": "code",
   "execution_count": 2,
   "metadata": {},
   "outputs": [],
   "source": [
    "import functions200m as fun200\n",
    "import functions200m as fun100\n",
    "import pandas as pd\n",
    "import tabula\n",
    "import csv\n",
    "import os"
   ]
  },
  {
   "cell_type": "code",
   "execution_count": 18,
   "metadata": {},
   "outputs": [
    {
     "name": "stdout",
     "output_type": "stream",
     "text": [
      "                         Prueba 46 Unnamed: 1             Fem., 50m Libre  \\\n",
      "0               04/11/2023 - 19:05        NaN                         NaN   \n",
      "1                    Clasificación         AN                         NaN   \n",
      "2             1. QUIRÓS RÍOS, Iria         14  C.D.N. Ciudad De Algeciras   \n",
      "3  2. BARRIOS PUIGDENGOLAS, Amalia         14         Club Natacion Jerez   \n",
      "4           3. MENDEZ SARRIA, Emma         14            C.N. Los Barrios   \n",
      "5              4. PUIG MALINE, Ana         14           C.N. San Fernando   \n",
      "6             5. BARO VIÑA, Jimena         14           C.N. San Fernando   \n",
      "7           6. RABINOWITZ, Natalie         14            C.N. Los Barrios   \n",
      "8        7. LOZANO JIMENEZ, Andrea         14         Club Natacion Jerez   \n",
      "\n",
      "  Unnamed: 3 Benjamin 2014  \n",
      "0        NaN    Resultados  \n",
      "1     Tiempo        Puntos  \n",
      "2      40.32             -  \n",
      "3      42.23             -  \n",
      "4      42.56             -  \n",
      "5      42.93             -  \n",
      "6      44.06             -  \n",
      "7      52.94             -  \n",
      "8      53.74             -  \n"
     ]
    }
   ],
   "source": [
    "pdf = 'pdfs/ResultList_46.pdf'\n",
    "tabu = tabula.read_pdf(pdf, pages='all', multiple_tables=False)\n",
    "df = tabu[0]\n",
    "print(df)\n"
   ]
  },
  {
   "cell_type": "code",
   "execution_count": 20,
   "metadata": {},
   "outputs": [
    {
     "name": "stdout",
     "output_type": "stream",
     "text": [
      "Index(['Prueba 46', 'Unnamed: 1', 'Fem., 50m Libre', 'Unnamed: 3',\n",
      "       'Benjamin 2014'],\n",
      "      dtype='object')\n"
     ]
    }
   ],
   "source": [
    "names = df.columns\n",
    "print(names)"
   ]
  }
 ],
 "metadata": {
  "kernelspec": {
   "display_name": "myenv",
   "language": "python",
   "name": "python3"
  },
  "language_info": {
   "codemirror_mode": {
    "name": "ipython",
    "version": 3
   },
   "file_extension": ".py",
   "mimetype": "text/x-python",
   "name": "python",
   "nbconvert_exporter": "python",
   "pygments_lexer": "ipython3",
   "version": "3.11.5"
  }
 },
 "nbformat": 4,
 "nbformat_minor": 2
}
