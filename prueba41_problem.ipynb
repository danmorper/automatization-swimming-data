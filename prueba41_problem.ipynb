{
 "cells": [
  {
   "cell_type": "code",
   "execution_count": 7,
   "metadata": {},
   "outputs": [],
   "source": [
    "import functions200m as fun200\n",
    "import functions200m as fun100\n",
    "import pandas as pd\n",
    "import tabula\n",
    "import csv\n",
    "import os\n",
    "import functions50m as fun50"
   ]
  },
  {
   "cell_type": "code",
   "execution_count": 15,
   "metadata": {},
   "outputs": [
    {
     "name": "stdout",
     "output_type": "stream",
     "text": [
      "                         Prueba 41                 Masc., 50m Espalda  \\\n",
      "0               04/11/2023 - 18:28                                NaN   \n",
      "1                    Clasificación                                 AN   \n",
      "2      1. REINADO HURTADO, leandro             14 Club Natacion Jerez   \n",
      "3     2. GONZALEZ COLLANTES, Pablo               14 C.N. San Fernando   \n",
      "4   3. PALMERO ESPINOSA, Alejandro  14 Club Deportivo Waterpolo Jerez   \n",
      "5         4. REAL DELGADO, gonzalo             14 Club Natacion Jerez   \n",
      "6          5. VERDEJO JAÉN, Javier                14 C.N. Los Barrios   \n",
      "7        6. SOUSSI BAHRAOUI, Talal      14 C.D.N. Ciudad De Algeciras   \n",
      "8         7. AHUMADA MUÑOZ, Andres               14 C.N. San Fernando   \n",
      "9        8. RODRIGUEZ TOCINO, Ivan               14 C.N. San Fernando   \n",
      "10         DSQ REYES CHAVEZ, Mario             14 Club Natacion Jerez   \n",
      "\n",
      "   Unnamed: 2 Benjamin 2014.  \n",
      "0         NaN     Resultados  \n",
      "1      Tiempo         Puntos  \n",
      "2       46.78              -  \n",
      "3       48.61              -  \n",
      "4       50.22              -  \n",
      "5       51.22              -  \n",
      "6       51.58              -  \n",
      "7       54.33              -  \n",
      "8       56.83              -  \n",
      "9       57.98              -  \n",
      "10        NaN              -  \n"
     ]
    }
   ],
   "source": [
    "pdf = 'pdfs/ResultList_41.pdf'\n",
    "tabu = tabula.read_pdf(pdf, pages='all', multiple_tables=False)\n",
    "tabu = tabu[0]\n",
    "print(tabu)\n"
   ]
  },
  {
   "cell_type": "code",
   "execution_count": 16,
   "metadata": {},
   "outputs": [
    {
     "name": "stdout",
     "output_type": "stream",
     "text": [
      "['prueba 41', 'masc., 50m espalda', 'unnamed: 2', 'benjamin 2014.']\n",
      "                         Prueba 41                 Masc., 50m Espalda  \\\n",
      "2      1. REINADO HURTADO, leandro             14 Club Natacion Jerez   \n",
      "3     2. GONZALEZ COLLANTES, Pablo               14 C.N. San Fernando   \n",
      "4   3. PALMERO ESPINOSA, Alejandro  14 Club Deportivo Waterpolo Jerez   \n",
      "5         4. REAL DELGADO, gonzalo             14 Club Natacion Jerez   \n",
      "6          5. VERDEJO JAÉN, Javier                14 C.N. Los Barrios   \n",
      "7        6. SOUSSI BAHRAOUI, Talal      14 C.D.N. Ciudad De Algeciras   \n",
      "8         7. AHUMADA MUÑOZ, Andres               14 C.N. San Fernando   \n",
      "9        8. RODRIGUEZ TOCINO, Ivan               14 C.N. San Fernando   \n",
      "10         DSQ REYES CHAVEZ, Mario             14 Club Natacion Jerez   \n",
      "\n",
      "   Unnamed: 2 Benjamin 2014. gender distance    style  category       date  \\\n",
      "2       46.78              -   masc       50  espalda  benjamin 2023-11-04   \n",
      "3       48.61              -   masc       50  espalda  benjamin 2023-11-04   \n",
      "4       50.22              -   masc       50  espalda  benjamin 2023-11-04   \n",
      "5       51.22              -   masc       50  espalda  benjamin 2023-11-04   \n",
      "6       51.58              -   masc       50  espalda  benjamin 2023-11-04   \n",
      "7       54.33              -   masc       50  espalda  benjamin 2023-11-04   \n",
      "8       56.83              -   masc       50  espalda  benjamin 2023-11-04   \n",
      "9       57.98              -   masc       50  espalda  benjamin 2023-11-04   \n",
      "10        NaN              -   masc       50  espalda  benjamin 2023-11-04   \n",
      "\n",
      "        time  \n",
      "2   18:28:00  \n",
      "3   18:28:00  \n",
      "4   18:28:00  \n",
      "5   18:28:00  \n",
      "6   18:28:00  \n",
      "7   18:28:00  \n",
      "8   18:28:00  \n",
      "9   18:28:00  \n",
      "10  18:28:00  \n"
     ]
    }
   ],
   "source": [
    "race_time = fun50.race_timefun(tabu)\n",
    "gender, distance, style, category, date, time = fun50.gender_distance_style_category_date_time(tabu)\n",
    "tabu = fun50.add_columns(tabu, gender=gender, distance=distance, style=style, category=category, date_string=date, time_string=time) #add_columns has dataframe as input\n",
    "tabu = fun50.nas_rows(tabu)\n",
    "print(tabu)\n",
    "df = tabu"
   ]
  },
  {
   "cell_type": "code",
   "execution_count": 19,
   "metadata": {},
   "outputs": [
    {
     "name": "stdout",
     "output_type": "stream",
     "text": [
      "[                            Prueba 40 Fem., 100m Espalda  \\\n",
      "0                  04/11/2023 - 18:23                NaN   \n",
      "1                       Clasificación                 AN   \n",
      "2            1. CASTILLO OJEDA, Julia                 13   \n",
      "3              50m: 42.03 42.03 100m:            1:25.75   \n",
      "4            2. AGUILAR CONESA, Julia                 13   \n",
      "5              50m: 43.09 43.09 100m:            1:28.73   \n",
      "6          3. GONZALEZ MARTINEZ, Gema                 13   \n",
      "7              50m: 45.47 45.47 100m:            1:35.07   \n",
      "8            4. MORILLO QUIROS, Maria                 13   \n",
      "9              50m: 49.85 49.85 100m:            1:39.81   \n",
      "10         5. LOZANO MANDESIS, Alicia                 13   \n",
      "11             50m: 51.44 51.44 100m:            1:41.28   \n",
      "12           6. PEÑA JIMENEZ, Carlota                 13   \n",
      "13             50m: 49.43 49.43 100m:            1:41.80   \n",
      "14    7. FERNANDEZ CLANNACHAN, alexia                 13   \n",
      "15             50m: 50.08 50.08 100m:            1:41.96   \n",
      "16         8. FERNANDEZ SANCHEZ, Emma                 13   \n",
      "17             50m: 49.79 49.79 100m:            1:44.39   \n",
      "18             9. RAMOS ROMERO, Leire                 13   \n",
      "19             50m: 51.97 51.97 100m:            1:47.44   \n",
      "20  10. MONREAL BECERRA, Ana Estrella                 13   \n",
      "21             50m: 53.18 53.18 100m:            1:52.59   \n",
      "22         11. JIMÉNEZ BARBERO, María                 13   \n",
      "23             50m: 55.28 55.28 100m:            1:53.62   \n",
      "24       12. HERRERA HERRERA, Ariadna                 13   \n",
      "\n",
      "                    Unnamed: 2 Benjamin Fem. 2013  \n",
      "0                          NaN         Resultados  \n",
      "1                          NaN      Tiempo Puntos  \n",
      "2   C.D.N. Ciudad De Algeciras          1:25.75 -  \n",
      "3                        43.72                NaN  \n",
      "4   C.D.N. Ciudad De Algeciras          1:28.73 -  \n",
      "5                        45.64                NaN  \n",
      "6            C.N. San Fernando          1:35.07 -  \n",
      "7                        49.60                NaN  \n",
      "8          Club Natacion Jerez          1:39.81 -  \n",
      "9                        49.96                NaN  \n",
      "10            C.N. Los Barrios          1:41.28 -  \n",
      "11                       49.84                NaN  \n",
      "12  C.D.N. Ciudad De Algeciras          1:41.80 -  \n",
      "13                       52.37                NaN  \n",
      "14         Club Natacion Jerez          1:41.96 -  \n",
      "15                       51.88                NaN  \n",
      "16            C.N. Los Barrios          1:44.39 -  \n",
      "17                       54.60                NaN  \n",
      "18             C.D.N. Sanlucar          1:47.44 -  \n",
      "19                       55.47                NaN  \n",
      "20         Club Natacion Jerez          1:52.59 -  \n",
      "21                       59.41                NaN  \n",
      "22  C.D.N. Ciudad De Algeciras          1:53.62 -  \n",
      "23                       58.34                NaN  \n",
      "24            C.N. Los Barrios          2:04.68 -  ]\n"
     ]
    }
   ],
   "source": [
    "pdf = 'pdfs/ResultList_40.pdf'\n",
    "tabu = tabula.read_pdf(pdf, pages='all', multiple_tables=False)\n",
    "print(tabu)"
   ]
  }
 ],
 "metadata": {
  "kernelspec": {
   "display_name": "myenv",
   "language": "python",
   "name": "python3"
  },
  "language_info": {
   "codemirror_mode": {
    "name": "ipython",
    "version": 3
   },
   "file_extension": ".py",
   "mimetype": "text/x-python",
   "name": "python",
   "nbconvert_exporter": "python",
   "pygments_lexer": "ipython3",
   "version": "3.11.5"
  }
 },
 "nbformat": 4,
 "nbformat_minor": 2
}
